{
 "cells": [
  {
   "cell_type": "code",
   "execution_count": 3,
   "id": "38fa0744",
   "metadata": {},
   "outputs": [],
   "source": [
    "#Program that will\n",
    "#Display a list\n",
    "#Have a user choose an indexx postion and an input value\n",
    "#Replace value at index postion with user's chosen input value\n",
    "#Finish the game if user wants to exit"
   ]
  },
  {
   "cell_type": "code",
   "execution_count": 4,
   "id": "c71e00fd",
   "metadata": {},
   "outputs": [],
   "source": [
    "game_list=[0,1,2]"
   ]
  },
  {
   "cell_type": "code",
   "execution_count": 5,
   "id": "5ef1b23d",
   "metadata": {},
   "outputs": [],
   "source": [
    "def display_game(game_list):\n",
    "    print(\"Here is the Current List\")\n",
    "    print(game_list)\n",
    "    "
   ]
  },
  {
   "cell_type": "code",
   "execution_count": 6,
   "id": "3a61cd09",
   "metadata": {},
   "outputs": [
    {
     "name": "stdout",
     "output_type": "stream",
     "text": [
      "Here is the Current List\n",
      "[0, 1, 2]\n"
     ]
    }
   ],
   "source": [
    "display_game(game_list)"
   ]
  },
  {
   "cell_type": "code",
   "execution_count": 7,
   "id": "56ed1c82",
   "metadata": {},
   "outputs": [],
   "source": [
    "def position_choice():\n",
    "    choice='Wrong'\n",
    "    \n",
    "    while choice not in ['0','1','2']:\n",
    "        \n",
    "        choice = input(\"Pick a position (0,1,2)\")\n",
    "        \n",
    "        if choice not in ['0','1','2']:\n",
    "            print(\"Sorry, invalid choice!\")\n",
    "            \n",
    "    return int(choice)\n",
    "        \n",
    "                         "
   ]
  },
  {
   "cell_type": "code",
   "execution_count": 10,
   "id": "92fbfd09",
   "metadata": {
    "scrolled": true
   },
   "outputs": [
    {
     "name": "stdout",
     "output_type": "stream",
     "text": [
      "Pick a position (0,1,2)two\n",
      "Sorry, invalid choice!\n",
      "Pick a position (0,1,2)24\n",
      "Sorry, invalid choice!\n",
      "Pick a position (0,1,2)2\n"
     ]
    },
    {
     "data": {
      "text/plain": [
       "2"
      ]
     },
     "execution_count": 10,
     "metadata": {},
     "output_type": "execute_result"
    }
   ],
   "source": [
    "position_choice()\n"
   ]
  },
  {
   "cell_type": "code",
   "execution_count": 11,
   "id": "b4d0bd57",
   "metadata": {},
   "outputs": [],
   "source": [
    "def replacement_choice(game_list,position):\n",
    "    \n",
    "    user_placement=input(\"Type a string to place at position:\")\n",
    "    \n",
    "    game_list[position]=user_placement\n",
    "    \n",
    "    return game_list\n",
    "    "
   ]
  },
  {
   "cell_type": "code",
   "execution_count": 12,
   "id": "866b9ab3",
   "metadata": {},
   "outputs": [
    {
     "name": "stdout",
     "output_type": "stream",
     "text": [
      "Type a string to place at position:test\n"
     ]
    },
    {
     "data": {
      "text/plain": [
       "[0, 'test', 2]"
      ]
     },
     "execution_count": 12,
     "metadata": {},
     "output_type": "execute_result"
    }
   ],
   "source": [
    "replacement_choice(game_list,1)"
   ]
  },
  {
   "cell_type": "code",
   "execution_count": 14,
   "id": "ed5fe721",
   "metadata": {},
   "outputs": [],
   "source": [
    "def gameon_choice():\n",
    "    choice='Wrong'\n",
    "    \n",
    "    while choice not in ['N','Y']:\n",
    "        \n",
    "        choice = input(\"Keep playing ? (Y OR N)\")\n",
    "        \n",
    "        if choice not in ['N','Y']:\n",
    "            print(\"Sorry, I dont understand Please choose Y OR N\")\n",
    "            \n",
    "    if choice=='Y':\n",
    "        return True\n",
    "    else:\n",
    "        return False"
   ]
  },
  {
   "cell_type": "code",
   "execution_count": 15,
   "id": "e485efb8",
   "metadata": {},
   "outputs": [
    {
     "name": "stdout",
     "output_type": "stream",
     "text": [
      "Keep playing ? (Y OR N)LS\n",
      "Sorry, I dont understand Please choose Y OR N\n",
      "Keep playing ? (Y OR N)Y\n"
     ]
    },
    {
     "data": {
      "text/plain": [
       "True"
      ]
     },
     "execution_count": 15,
     "metadata": {},
     "output_type": "execute_result"
    }
   ],
   "source": [
    "gameon_choice()"
   ]
  },
  {
   "cell_type": "code",
   "execution_count": 16,
   "id": "7bfb2ed7",
   "metadata": {},
   "outputs": [
    {
     "name": "stdout",
     "output_type": "stream",
     "text": [
      "Here is the Current List\n",
      "[0, 1, 2]\n",
      "Pick a position (0,1,2)gh\n",
      "Sorry, invalid choice!\n",
      "Pick a position (0,1,2)1\n",
      "Type a string to place at position:nistha\n",
      "Here is the Current List\n",
      "[0, 'nistha', 2]\n",
      "Keep playing ? (Y OR N)Y\n",
      "Here is the Current List\n",
      "[0, 'nistha', 2]\n",
      "Pick a position (0,1,2)0\n",
      "Type a string to place at position:aastha\n",
      "Here is the Current List\n",
      "['aastha', 'nistha', 2]\n",
      "Keep playing ? (Y OR N)Y\n",
      "Here is the Current List\n",
      "['aastha', 'nistha', 2]\n",
      "Pick a position (0,1,2)2\n",
      "Type a string to place at position:raj\n",
      "Here is the Current List\n",
      "['aastha', 'nistha', 'raj']\n",
      "Keep playing ? (Y OR N)N\n"
     ]
    }
   ],
   "source": [
    "game_on=True\n",
    "game_list=[0,1,2]\n",
    "\n",
    "while game_on:\n",
    "    display_game(game_list)\n",
    "    \n",
    "    position = position_choice()\n",
    "    \n",
    "    game_list = replacement_choice(game_list,position)\n",
    "    \n",
    "    display_game(game_list)\n",
    "    \n",
    "    game_on = gameon_choice()\n",
    "    \n",
    "    "
   ]
  },
  {
   "cell_type": "code",
   "execution_count": null,
   "id": "ad37d6c3",
   "metadata": {},
   "outputs": [],
   "source": []
  }
 ],
 "metadata": {
  "kernelspec": {
   "display_name": "Python 3 (ipykernel)",
   "language": "python",
   "name": "python3"
  },
  "language_info": {
   "codemirror_mode": {
    "name": "ipython",
    "version": 3
   },
   "file_extension": ".py",
   "mimetype": "text/x-python",
   "name": "python",
   "nbconvert_exporter": "python",
   "pygments_lexer": "ipython3",
   "version": "3.9.12"
  }
 },
 "nbformat": 4,
 "nbformat_minor": 5
}
