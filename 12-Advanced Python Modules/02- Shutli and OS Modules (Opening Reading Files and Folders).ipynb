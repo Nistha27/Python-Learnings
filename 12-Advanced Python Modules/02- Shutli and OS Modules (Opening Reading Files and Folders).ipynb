{
 "cells": [
  {
   "cell_type": "code",
   "execution_count": 1,
   "id": "8156d69e",
   "metadata": {},
   "outputs": [
    {
     "data": {
      "text/plain": [
       "'C:\\\\Users\\\\nistha\\\\Python Learnings\\\\11-Advanced Python Modules'"
      ]
     },
     "execution_count": 1,
     "metadata": {},
     "output_type": "execute_result"
    }
   ],
   "source": [
    "pwd"
   ]
  },
  {
   "cell_type": "code",
   "execution_count": 4,
   "id": "061089a2",
   "metadata": {},
   "outputs": [],
   "source": [
    "f = open('practice.txt','w+')\n",
    "f.write('This is a test string')\n",
    "f.close()"
   ]
  },
  {
   "cell_type": "code",
   "execution_count": 5,
   "id": "fa88d577",
   "metadata": {},
   "outputs": [],
   "source": [
    "#USE OF OS MODULE"
   ]
  },
  {
   "cell_type": "code",
   "execution_count": 6,
   "id": "5bf4488f",
   "metadata": {},
   "outputs": [],
   "source": [
    "import os"
   ]
  },
  {
   "cell_type": "code",
   "execution_count": 7,
   "id": "e0e34577",
   "metadata": {},
   "outputs": [
    {
     "data": {
      "text/plain": [
       "'C:\\\\Users\\\\nistha\\\\Python Learnings\\\\11-Advanced Python Modules'"
      ]
     },
     "execution_count": 7,
     "metadata": {},
     "output_type": "execute_result"
    }
   ],
   "source": [
    "os.getcwd()"
   ]
  },
  {
   "cell_type": "code",
   "execution_count": 9,
   "id": "249c3631",
   "metadata": {},
   "outputs": [
    {
     "data": {
      "text/plain": [
       "['.ipynb_checkpoints',\n",
       " '01-Python Collection Module.ipynb',\n",
       " '02- Shutli and OS Modules (Opening Reading Files and Folders).ipynb',\n",
       " 'practice.txt']"
      ]
     },
     "execution_count": 9,
     "metadata": {},
     "output_type": "execute_result"
    }
   ],
   "source": [
    "os.listdir()"
   ]
  },
  {
   "cell_type": "code",
   "execution_count": 10,
   "id": "e30f252c",
   "metadata": {},
   "outputs": [
    {
     "data": {
      "text/plain": [
       "['All Users', 'Default', 'Default User', 'desktop.ini', 'nistha', 'Public']"
      ]
     },
     "execution_count": 10,
     "metadata": {},
     "output_type": "execute_result"
    }
   ],
   "source": [
    "os.listdir('C:\\\\Users')"
   ]
  },
  {
   "cell_type": "code",
   "execution_count": 12,
   "id": "6fdbc330",
   "metadata": {},
   "outputs": [],
   "source": [
    "import shutil #used to move files in different locations"
   ]
  },
  {
   "cell_type": "code",
   "execution_count": 14,
   "id": "9d9be4e1",
   "metadata": {},
   "outputs": [
    {
     "data": {
      "text/plain": [
       "'C:\\\\Users\\\\nistha\\\\Python Learnings\\\\practice.txt'"
      ]
     },
     "execution_count": 14,
     "metadata": {},
     "output_type": "execute_result"
    }
   ],
   "source": [
    "shutil.move('practice.txt','C:\\\\Users\\\\nistha\\\\Python Learnings')"
   ]
  },
  {
   "cell_type": "code",
   "execution_count": 15,
   "id": "c487d090",
   "metadata": {},
   "outputs": [
    {
     "data": {
      "text/plain": [
       "['.ipynb_checkpoints',\n",
       " '01-Python Objects and Data Structure Objects',\n",
       " '02-Python Comparison Operator',\n",
       " '03-Python Statements',\n",
       " '04-Methods and Functions',\n",
       " '05-Milestone Project 1',\n",
       " '06- Object Oriented Programming',\n",
       " '07-Errors and Exception Hanndlings',\n",
       " '08-Milestonne Project 2',\n",
       " '09-Python Decorators',\n",
       " '10-Python Generators',\n",
       " '11-Advanced Python Modules',\n",
       " 'practice.txt']"
      ]
     },
     "execution_count": 15,
     "metadata": {},
     "output_type": "execute_result"
    }
   ],
   "source": [
    "os.listdir('C:\\\\Users\\\\nistha\\\\Python Learnings')"
   ]
  },
  {
   "cell_type": "code",
   "execution_count": 18,
   "id": "09eb8402",
   "metadata": {},
   "outputs": [],
   "source": [
    "#Ways  to delete the files\n",
    "#os.unlink(path)\n",
    "#os.rmdir(path)\n",
    "#shutil.rmtree(path)"
   ]
  },
  {
   "cell_type": "code",
   "execution_count": 19,
   "id": "138a97cf",
   "metadata": {},
   "outputs": [],
   "source": [
    "import send2trash"
   ]
  },
  {
   "cell_type": "code",
   "execution_count": 20,
   "id": "224283c2",
   "metadata": {},
   "outputs": [
    {
     "data": {
      "text/plain": [
       "['.ipynb_checkpoints',\n",
       " '01-Python Collection Module.ipynb',\n",
       " '02- Shutli and OS Modules (Opening Reading Files and Folders).ipynb']"
      ]
     },
     "execution_count": 20,
     "metadata": {},
     "output_type": "execute_result"
    }
   ],
   "source": [
    "os.listdir()"
   ]
  },
  {
   "cell_type": "code",
   "execution_count": 23,
   "id": "3467d8db",
   "metadata": {},
   "outputs": [
    {
     "data": {
      "text/plain": [
       "'C:\\\\Users\\\\nistha\\\\Python Learnings\\\\11-Advanced Python Modules\\\\practice.txt'"
      ]
     },
     "execution_count": 23,
     "metadata": {},
     "output_type": "execute_result"
    }
   ],
   "source": [
    "shutil.move(\"C:\\\\Users\\\\nistha\\\\Python Learnings\\\\practice.txt\", os.getcwd() )"
   ]
  },
  {
   "cell_type": "code",
   "execution_count": 24,
   "id": "60dbbbdb",
   "metadata": {},
   "outputs": [
    {
     "data": {
      "text/plain": [
       "['.ipynb_checkpoints',\n",
       " '01-Python Collection Module.ipynb',\n",
       " '02- Shutli and OS Modules (Opening Reading Files and Folders).ipynb',\n",
       " 'practice.txt']"
      ]
     },
     "execution_count": 24,
     "metadata": {},
     "output_type": "execute_result"
    }
   ],
   "source": [
    "os.listdir()"
   ]
  },
  {
   "cell_type": "code",
   "execution_count": 25,
   "id": "fdfe2788",
   "metadata": {},
   "outputs": [],
   "source": [
    "send2trash.send2trash('practice.txt')"
   ]
  },
  {
   "cell_type": "code",
   "execution_count": 26,
   "id": "9dc0963a",
   "metadata": {},
   "outputs": [
    {
     "data": {
      "text/plain": [
       "['.ipynb_checkpoints',\n",
       " '01-Python Collection Module.ipynb',\n",
       " '02- Shutli and OS Modules (Opening Reading Files and Folders).ipynb']"
      ]
     },
     "execution_count": 26,
     "metadata": {},
     "output_type": "execute_result"
    }
   ],
   "source": [
    "os.listdir()"
   ]
  },
  {
   "cell_type": "code",
   "execution_count": 27,
   "id": "fd26385d",
   "metadata": {},
   "outputs": [],
   "source": [
    "# How to use  os.walk"
   ]
  },
  {
   "cell_type": "code",
   "execution_count": 28,
   "id": "e9476e5d",
   "metadata": {},
   "outputs": [
    {
     "data": {
      "text/plain": [
       "'C:\\\\Users\\\\nistha\\\\Python Learnings\\\\11-Advanced Python Modules'"
      ]
     },
     "execution_count": 28,
     "metadata": {},
     "output_type": "execute_result"
    }
   ],
   "source": [
    "os.getcwd()"
   ]
  },
  {
   "cell_type": "code",
   "execution_count": 33,
   "id": "846ec600",
   "metadata": {},
   "outputs": [
    {
     "name": "stdout",
     "output_type": "stream",
     "text": [
      "Currently looking at C:\\Users\\nistha\\Complete-Python-3-Bootcamp-master\\12-Advanced Python Modules\\Example_Top_Level\n",
      "\n",
      "\n",
      "The subfolders are:\n",
      "\t Subfolders: Mid-Example-One\n",
      "\n",
      "\n",
      "the files are\n",
      "File:Mid-Example.txt\n",
      "\n",
      "\n",
      "Currently looking at C:\\Users\\nistha\\Complete-Python-3-Bootcamp-master\\12-Advanced Python Modules\\Example_Top_Level\\Mid-Example-One\n",
      "\n",
      "\n",
      "The subfolders are:\n",
      "\t Subfolders: Bottom-Level-One\n",
      "\t Subfolders: Bottom-Level-Two\n",
      "\n",
      "\n",
      "the files are\n",
      "File:Mid-Level-Doc.txt\n",
      "\n",
      "\n",
      "Currently looking at C:\\Users\\nistha\\Complete-Python-3-Bootcamp-master\\12-Advanced Python Modules\\Example_Top_Level\\Mid-Example-One\\Bottom-Level-One\n",
      "\n",
      "\n",
      "The subfolders are:\n",
      "\n",
      "\n",
      "the files are\n",
      "File:One_Text.txt\n",
      "\n",
      "\n",
      "Currently looking at C:\\Users\\nistha\\Complete-Python-3-Bootcamp-master\\12-Advanced Python Modules\\Example_Top_Level\\Mid-Example-One\\Bottom-Level-Two\n",
      "\n",
      "\n",
      "The subfolders are:\n",
      "\n",
      "\n",
      "the files are\n",
      "File:Bottom-Text-Two.txt\n",
      "\n",
      "\n"
     ]
    }
   ],
   "source": [
    "file_path = 'C:\\\\Users\\\\nistha\\\\Complete-Python-3-Bootcamp-master\\\\12-Advanced Python Modules\\\\Example_Top_Level'\n",
    "\n",
    "for folder,sub_folders,files in os.walk(file_path):\n",
    "    \n",
    "    print(f\"Currently looking at {folder}\")\n",
    "    print('\\n')\n",
    "    print('The subfolders are:')\n",
    "    \n",
    "    for sub_fold in sub_folders:\n",
    "        print(f\"\\t Subfolders: {sub_fold}\")\n",
    "        \n",
    "    print('\\n')\n",
    "    print(\"the files are\")\n",
    "    for f in files:\n",
    "        print(f\"File:{f}\")\n",
    "    print('\\n')"
   ]
  },
  {
   "cell_type": "code",
   "execution_count": null,
   "id": "34fc0686",
   "metadata": {},
   "outputs": [],
   "source": []
  }
 ],
 "metadata": {
  "kernelspec": {
   "display_name": "Python 3 (ipykernel)",
   "language": "python",
   "name": "python3"
  },
  "language_info": {
   "codemirror_mode": {
    "name": "ipython",
    "version": 3
   },
   "file_extension": ".py",
   "mimetype": "text/x-python",
   "name": "python",
   "nbconvert_exporter": "python",
   "pygments_lexer": "ipython3",
   "version": "3.9.12"
  }
 },
 "nbformat": 4,
 "nbformat_minor": 5
}
