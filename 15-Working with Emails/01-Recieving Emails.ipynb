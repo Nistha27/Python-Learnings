{
 "cells": [
  {
   "cell_type": "code",
   "execution_count": 1,
   "id": "cf51b6d3",
   "metadata": {},
   "outputs": [],
   "source": [
    "import imaplib"
   ]
  },
  {
   "cell_type": "code",
   "execution_count": 2,
   "id": "aa2d9a49",
   "metadata": {},
   "outputs": [],
   "source": [
    "M = imaplib.IMAP4_SSL('imap.gmail.com')"
   ]
  },
  {
   "cell_type": "code",
   "execution_count": 3,
   "id": "aa7eda0b",
   "metadata": {},
   "outputs": [],
   "source": [
    "import getpass"
   ]
  },
  {
   "cell_type": "code",
   "execution_count": 7,
   "id": "43e607e1",
   "metadata": {},
   "outputs": [
    {
     "name": "stdout",
     "output_type": "stream",
     "text": [
      "Email:········\n",
      "Password:········\n"
     ]
    }
   ],
   "source": [
    "email = getpass.getpass(\"Email:\")\n",
    "password = getpass.getpass(\"Password:\")\n"
   ]
  },
  {
   "cell_type": "code",
   "execution_count": 8,
   "id": "22f04bdc",
   "metadata": {},
   "outputs": [
    {
     "data": {
      "text/plain": [
       "('OK', [b'manjit.nistha5027@gmail.com authenticated (Success)'])"
      ]
     },
     "execution_count": 8,
     "metadata": {},
     "output_type": "execute_result"
    }
   ],
   "source": [
    "M.login(email,password)"
   ]
  },
  {
   "cell_type": "code",
   "execution_count": 9,
   "id": "dcdc7983",
   "metadata": {},
   "outputs": [
    {
     "data": {
      "text/plain": [
       "('OK',\n",
       " [b'(\\\\HasNoChildren) \"/\" \"INBOX\"',\n",
       "  b'(\\\\HasChildren \\\\Noselect) \"/\" \"[Gmail]\"',\n",
       "  b'(\\\\All \\\\HasNoChildren) \"/\" \"[Gmail]/All Mail\"',\n",
       "  b'(\\\\Drafts \\\\HasNoChildren) \"/\" \"[Gmail]/Drafts\"',\n",
       "  b'(\\\\HasNoChildren \\\\Important) \"/\" \"[Gmail]/Important\"',\n",
       "  b'(\\\\HasNoChildren \\\\Sent) \"/\" \"[Gmail]/Sent Mail\"',\n",
       "  b'(\\\\HasNoChildren \\\\Junk) \"/\" \"[Gmail]/Spam\"',\n",
       "  b'(\\\\Flagged \\\\HasNoChildren) \"/\" \"[Gmail]/Starred\"',\n",
       "  b'(\\\\HasNoChildren \\\\Trash) \"/\" \"[Gmail]/Trash\"'])"
      ]
     },
     "execution_count": 9,
     "metadata": {},
     "output_type": "execute_result"
    }
   ],
   "source": [
    "M.list()"
   ]
  },
  {
   "cell_type": "code",
   "execution_count": 10,
   "id": "e98d44ef",
   "metadata": {},
   "outputs": [
    {
     "data": {
      "text/plain": [
       "('OK', [b'16321'])"
      ]
     },
     "execution_count": 10,
     "metadata": {},
     "output_type": "execute_result"
    }
   ],
   "source": [
    "M.select('inbox')"
   ]
  },
  {
   "cell_type": "code",
   "execution_count": 11,
   "id": "ab7281c5",
   "metadata": {},
   "outputs": [],
   "source": [
    "typ,data = M.search(None,'SUBJECT \"The New Test\"' )"
   ]
  },
  {
   "cell_type": "code",
   "execution_count": 12,
   "id": "e1bbad02",
   "metadata": {},
   "outputs": [
    {
     "data": {
      "text/plain": [
       "'OK'"
      ]
     },
     "execution_count": 12,
     "metadata": {},
     "output_type": "execute_result"
    }
   ],
   "source": [
    "typ"
   ]
  },
  {
   "cell_type": "code",
   "execution_count": 13,
   "id": "12b937d6",
   "metadata": {},
   "outputs": [
    {
     "data": {
      "text/plain": [
       "[b'16321']"
      ]
     },
     "execution_count": 13,
     "metadata": {},
     "output_type": "execute_result"
    }
   ],
   "source": [
    "data"
   ]
  },
  {
   "cell_type": "code",
   "execution_count": 14,
   "id": "c4770f96",
   "metadata": {},
   "outputs": [],
   "source": [
    "email_id = data[0]"
   ]
  },
  {
   "cell_type": "code",
   "execution_count": 15,
   "id": "47bfd0ed",
   "metadata": {},
   "outputs": [],
   "source": [
    "result , email_data = M.fetch(email_id,'(RFC822)')"
   ]
  },
  {
   "cell_type": "code",
   "execution_count": 16,
   "id": "c445d101",
   "metadata": {},
   "outputs": [],
   "source": [
    "#email_data"
   ]
  },
  {
   "cell_type": "code",
   "execution_count": 17,
   "id": "9768da04",
   "metadata": {},
   "outputs": [],
   "source": [
    "raw_email = email_data[0][1]"
   ]
  },
  {
   "cell_type": "code",
   "execution_count": 18,
   "id": "b95f6d1d",
   "metadata": {},
   "outputs": [],
   "source": [
    "raw_email_string = raw_email.decode('utf-8')"
   ]
  },
  {
   "cell_type": "code",
   "execution_count": 19,
   "id": "351d06e2",
   "metadata": {},
   "outputs": [],
   "source": [
    "import email"
   ]
  },
  {
   "cell_type": "code",
   "execution_count": 20,
   "id": "32eda7f9",
   "metadata": {},
   "outputs": [],
   "source": [
    "email_message = email.message_from_string(raw_email_string)"
   ]
  },
  {
   "cell_type": "code",
   "execution_count": 21,
   "id": "7a66385a",
   "metadata": {},
   "outputs": [],
   "source": [
    "for part in email_message.walk():\n",
    "    \n",
    "    if part.get_content_type == 'text/plain':\n",
    "        body = part.get_playload(decode=True)\n",
    "        print(body)"
   ]
  },
  {
   "cell_type": "code",
   "execution_count": null,
   "id": "da431d2e",
   "metadata": {},
   "outputs": [],
   "source": []
  }
 ],
 "metadata": {
  "kernelspec": {
   "display_name": "Python 3 (ipykernel)",
   "language": "python",
   "name": "python3"
  },
  "language_info": {
   "codemirror_mode": {
    "name": "ipython",
    "version": 3
   },
   "file_extension": ".py",
   "mimetype": "text/x-python",
   "name": "python",
   "nbconvert_exporter": "python",
   "pygments_lexer": "ipython3",
   "version": "3.9.12"
  }
 },
 "nbformat": 4,
 "nbformat_minor": 5
}
