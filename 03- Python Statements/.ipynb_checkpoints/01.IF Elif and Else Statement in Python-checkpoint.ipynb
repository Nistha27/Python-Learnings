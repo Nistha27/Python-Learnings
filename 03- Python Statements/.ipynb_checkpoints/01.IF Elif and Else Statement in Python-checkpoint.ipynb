{
 "cells": [
  {
   "cell_type": "code",
   "execution_count": 1,
   "id": "ddd83db1",
   "metadata": {},
   "outputs": [
    {
     "name": "stdout",
     "output_type": "stream",
     "text": [
      "ITS true\n"
     ]
    }
   ],
   "source": [
    " if True:\n",
    "        print('ITS true')"
   ]
  },
  {
   "cell_type": "code",
   "execution_count": 2,
   "id": "6ca9501e",
   "metadata": {},
   "outputs": [
    {
     "name": "stdout",
     "output_type": "stream",
     "text": [
      "True\n"
     ]
    }
   ],
   "source": [
    "if 3>2:\n",
    "    print(\"True\")\n",
    "    "
   ]
  },
  {
   "cell_type": "code",
   "execution_count": 4,
   "id": "85f7b519",
   "metadata": {},
   "outputs": [
    {
     "name": "stdout",
     "output_type": "stream",
     "text": [
      "Don't Feed me\n"
     ]
    }
   ],
   "source": [
    "hungry=False\n",
    "if hungry:\n",
    "    print('Feed Me!')\n",
    "else:\n",
    "    print(\"Don't Feed me\")"
   ]
  },
  {
   "cell_type": "code",
   "execution_count": 5,
   "id": "e24af3f8",
   "metadata": {},
   "outputs": [
    {
     "name": "stdout",
     "output_type": "stream",
     "text": [
      "Feed Me!\n"
     ]
    }
   ],
   "source": [
    "hungry=True\n",
    "if hungry:\n",
    "    print('Feed Me!')\n",
    "else:\n",
    "    print(\"Don't Feed me\")"
   ]
  },
  {
   "cell_type": "code",
   "execution_count": 7,
   "id": "2b056307",
   "metadata": {},
   "outputs": [
    {
     "name": "stdout",
     "output_type": "stream",
     "text": [
      "Cash is cool\n"
     ]
    }
   ],
   "source": [
    "loc = 'Bank'\n",
    "if loc=='Auto Shop':\n",
    "    print(\"Cars are cool\")\n",
    "elif loc=='Bank':\n",
    "    print(\"Cash is cool\")\n",
    "else:\n",
    "    print(\"I donnt know much\")\n",
    "    "
   ]
  },
  {
   "cell_type": "code",
   "execution_count": 9,
   "id": "fcbad5b5",
   "metadata": {},
   "outputs": [
    {
     "name": "stdout",
     "output_type": "stream",
     "text": [
      "Whats your name\n"
     ]
    }
   ],
   "source": [
    "name='Sammy'\n",
    "if name=='Franky':\n",
    "    print(\"Hello Franky\")\n",
    "else:\n",
    "    print(\"Whats your name\")"
   ]
  },
  {
   "cell_type": "code",
   "execution_count": null,
   "id": "b6afe0e8",
   "metadata": {},
   "outputs": [],
   "source": []
  }
 ],
 "metadata": {
  "kernelspec": {
   "display_name": "Python 3 (ipykernel)",
   "language": "python",
   "name": "python3"
  },
  "language_info": {
   "codemirror_mode": {
    "name": "ipython",
    "version": 3
   },
   "file_extension": ".py",
   "mimetype": "text/x-python",
   "name": "python",
   "nbconvert_exporter": "python",
   "pygments_lexer": "ipython3",
   "version": "3.9.12"
  }
 },
 "nbformat": 4,
 "nbformat_minor": 5
}
