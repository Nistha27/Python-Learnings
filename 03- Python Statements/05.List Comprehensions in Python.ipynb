{
 "cells": [
  {
   "cell_type": "code",
   "execution_count": 1,
   "id": "fb40a68a",
   "metadata": {},
   "outputs": [],
   "source": [
    "mystring ='hello'"
   ]
  },
  {
   "cell_type": "code",
   "execution_count": 7,
   "id": "d4730c31",
   "metadata": {},
   "outputs": [],
   "source": [
    "mylist = []\n",
    "for letter in mystring:\n",
    "    mylist.append(letter)"
   ]
  },
  {
   "cell_type": "code",
   "execution_count": 8,
   "id": "e93a49e7",
   "metadata": {},
   "outputs": [
    {
     "data": {
      "text/plain": [
       "['h', 'e', 'l', 'l', 'o']"
      ]
     },
     "execution_count": 8,
     "metadata": {},
     "output_type": "execute_result"
    }
   ],
   "source": [
    "mylist"
   ]
  },
  {
   "cell_type": "code",
   "execution_count": 27,
   "id": "6e041980",
   "metadata": {},
   "outputs": [],
   "source": [
    "mylist = [ letter for letter in mystring]\n",
    "#simplified version of \n",
    "\n",
    "#mylist = []\n",
    "#for letter in mystring:\n",
    "    #mylist.append(letter)"
   ]
  },
  {
   "cell_type": "code",
   "execution_count": 10,
   "id": "8038ab1c",
   "metadata": {},
   "outputs": [
    {
     "data": {
      "text/plain": [
       "['h', 'e', 'l', 'l', 'o']"
      ]
     },
     "execution_count": 10,
     "metadata": {},
     "output_type": "execute_result"
    }
   ],
   "source": [
    "mylist"
   ]
  },
  {
   "cell_type": "code",
   "execution_count": 16,
   "id": "147ac2eb",
   "metadata": {},
   "outputs": [],
   "source": [
    "mylist=[ ert for ert in'worrty']"
   ]
  },
  {
   "cell_type": "code",
   "execution_count": 17,
   "id": "c9324ed6",
   "metadata": {},
   "outputs": [
    {
     "data": {
      "text/plain": [
       "['w', 'o', 'r', 'r', 't', 'y']"
      ]
     },
     "execution_count": 17,
     "metadata": {},
     "output_type": "execute_result"
    }
   ],
   "source": [
    "mylist"
   ]
  },
  {
   "cell_type": "code",
   "execution_count": 22,
   "id": "85b4ff66",
   "metadata": {},
   "outputs": [],
   "source": [
    "mylist=[num**2 for num in range(0,11) ]\n",
    "#simplified version\n",
    "#mylist=[]\n",
    "#for num in range(0,11):\n",
    "#   mylist.append(num**2)"
   ]
  },
  {
   "cell_type": "code",
   "execution_count": 23,
   "id": "258ab14c",
   "metadata": {},
   "outputs": [
    {
     "data": {
      "text/plain": [
       "[0, 1, 4, 9, 16, 25, 36, 49, 64, 81, 100]"
      ]
     },
     "execution_count": 23,
     "metadata": {},
     "output_type": "execute_result"
    }
   ],
   "source": [
    "mylist"
   ]
  },
  {
   "cell_type": "code",
   "execution_count": 29,
   "id": "d86403e7",
   "metadata": {},
   "outputs": [],
   "source": [
    "mylist=[]\n",
    "for num in range(0,11):\n",
    "   mylist.append(num**2)"
   ]
  },
  {
   "cell_type": "code",
   "execution_count": 30,
   "id": "4b72242c",
   "metadata": {},
   "outputs": [
    {
     "data": {
      "text/plain": [
       "[0, 1, 4, 9, 16, 25, 36, 49, 64, 81, 100]"
      ]
     },
     "execution_count": 30,
     "metadata": {},
     "output_type": "execute_result"
    }
   ],
   "source": [
    "mylist"
   ]
  },
  {
   "cell_type": "code",
   "execution_count": 33,
   "id": "ec21be08",
   "metadata": {},
   "outputs": [],
   "source": [
    "mylist= [x**2 for x in range(0,11) if x%2==0 ]"
   ]
  },
  {
   "cell_type": "code",
   "execution_count": 34,
   "id": "75be0a51",
   "metadata": {},
   "outputs": [
    {
     "data": {
      "text/plain": [
       "[0, 4, 16, 36, 64, 100]"
      ]
     },
     "execution_count": 34,
     "metadata": {},
     "output_type": "execute_result"
    }
   ],
   "source": [
    "mylist"
   ]
  },
  {
   "cell_type": "code",
   "execution_count": 35,
   "id": "e3915034",
   "metadata": {},
   "outputs": [],
   "source": [
    "#for loop in list comprehensions\n",
    "celcius=[0,100,20,34.5]\n",
    "\n",
    "fahrenheit = [((9/5)*temp+32) for temp in celcius]"
   ]
  },
  {
   "cell_type": "code",
   "execution_count": 36,
   "id": "688cdb8e",
   "metadata": {},
   "outputs": [
    {
     "data": {
      "text/plain": [
       "[32.0, 212.0, 68.0, 94.1]"
      ]
     },
     "execution_count": 36,
     "metadata": {},
     "output_type": "execute_result"
    }
   ],
   "source": [
    "fahrenheit"
   ]
  },
  {
   "cell_type": "code",
   "execution_count": 39,
   "id": "da07fe47",
   "metadata": {},
   "outputs": [],
   "source": [
    "#or\n",
    "fahrenheit=[]\n",
    "for temp in celcius:\n",
    "    fahrenheit.append((9/5)*temp+32)"
   ]
  },
  {
   "cell_type": "code",
   "execution_count": 40,
   "id": "df5275b7",
   "metadata": {},
   "outputs": [
    {
     "data": {
      "text/plain": [
       "[32.0, 212.0, 68.0, 94.1]"
      ]
     },
     "execution_count": 40,
     "metadata": {},
     "output_type": "execute_result"
    }
   ],
   "source": [
    "fahrenheit"
   ]
  },
  {
   "cell_type": "code",
   "execution_count": 45,
   "id": "e5fa4469",
   "metadata": {},
   "outputs": [],
   "source": [
    "#if and else statement in list comprehesions\n",
    "results=[x if x%2==0 else 'ODD' for x in range(0,11)]"
   ]
  },
  {
   "cell_type": "code",
   "execution_count": 46,
   "id": "5e5d1136",
   "metadata": {},
   "outputs": [
    {
     "data": {
      "text/plain": [
       "[0, 'ODD', 2, 'ODD', 4, 'ODD', 6, 'ODD', 8, 'ODD', 10]"
      ]
     },
     "execution_count": 46,
     "metadata": {},
     "output_type": "execute_result"
    }
   ],
   "source": [
    "results"
   ]
  },
  {
   "cell_type": "code",
   "execution_count": 47,
   "id": "072982ea",
   "metadata": {},
   "outputs": [],
   "source": [
    "#nested loops in list comprehensions"
   ]
  },
  {
   "cell_type": "code",
   "execution_count": 48,
   "id": "96e4e53b",
   "metadata": {},
   "outputs": [],
   "source": [
    "mylist=[]\n",
    "for x in [2,4,6]:\n",
    "    for y in [100,200,300]:\n",
    "        mylist.append(x*y)"
   ]
  },
  {
   "cell_type": "code",
   "execution_count": 49,
   "id": "b92398bf",
   "metadata": {},
   "outputs": [
    {
     "data": {
      "text/plain": [
       "[200, 400, 600, 400, 800, 1200, 600, 1200, 1800]"
      ]
     },
     "execution_count": 49,
     "metadata": {},
     "output_type": "execute_result"
    }
   ],
   "source": [
    "mylist"
   ]
  },
  {
   "cell_type": "code",
   "execution_count": 1,
   "id": "74c621c9",
   "metadata": {},
   "outputs": [],
   "source": [
    "mylist=[x*y for y in [100,200,300] for x in [2,4,6]]\n",
    "#nested list comprehensions"
   ]
  },
  {
   "cell_type": "code",
   "execution_count": 51,
   "id": "eb7b180b",
   "metadata": {},
   "outputs": [
    {
     "data": {
      "text/plain": [
       "[200, 400, 600, 400, 800, 1200, 600, 1200, 1800]"
      ]
     },
     "execution_count": 51,
     "metadata": {},
     "output_type": "execute_result"
    }
   ],
   "source": [
    "mylist"
   ]
  },
  {
   "cell_type": "code",
   "execution_count": null,
   "id": "253b93c5",
   "metadata": {},
   "outputs": [],
   "source": []
  }
 ],
 "metadata": {
  "kernelspec": {
   "display_name": "Python 3 (ipykernel)",
   "language": "python",
   "name": "python3"
  },
  "language_info": {
   "codemirror_mode": {
    "name": "ipython",
    "version": 3
   },
   "file_extension": ".py",
   "mimetype": "text/x-python",
   "name": "python",
   "nbconvert_exporter": "python",
   "pygments_lexer": "ipython3",
   "version": "3.9.12"
  }
 },
 "nbformat": 4,
 "nbformat_minor": 5
}
