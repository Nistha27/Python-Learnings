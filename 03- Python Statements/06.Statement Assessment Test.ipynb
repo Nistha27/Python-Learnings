{
 "cells": [
  {
   "cell_type": "code",
   "execution_count": 1,
   "id": "3d51d9ba",
   "metadata": {},
   "outputs": [],
   "source": [
    "#Use for, .split(), and if to create a Statement\n",
    "#that will print out words that start with ‘s’:"
   ]
  },
  {
   "cell_type": "code",
   "execution_count": 2,
   "id": "d8d6f281",
   "metadata": {},
   "outputs": [],
   "source": [
    "st = 'Print only the words that start with s in this sentence'"
   ]
  },
  {
   "cell_type": "code",
   "execution_count": 10,
   "id": "55dd7508",
   "metadata": {},
   "outputs": [],
   "source": [
    "letter=st.split()"
   ]
  },
  {
   "cell_type": "code",
   "execution_count": 11,
   "id": "b61d8098",
   "metadata": {},
   "outputs": [
    {
     "data": {
      "text/plain": [
       "'s'"
      ]
     },
     "execution_count": 11,
     "metadata": {},
     "output_type": "execute_result"
    }
   ],
   "source": [
    "letter[7]"
   ]
  },
  {
   "cell_type": "code",
   "execution_count": 13,
   "id": "2bb9b261",
   "metadata": {},
   "outputs": [
    {
     "name": "stdout",
     "output_type": "stream",
     "text": [
      "s\n"
     ]
    }
   ],
   "source": [
    "for letter in st.split():\n",
    "    if letter=='s':\n",
    "        print(letter)"
   ]
  },
  {
   "cell_type": "code",
   "execution_count": 14,
   "id": "c7d13a2e",
   "metadata": {},
   "outputs": [],
   "source": [
    "#Use range() to print all the even numbers from 0 to 10."
   ]
  },
  {
   "cell_type": "code",
   "execution_count": 16,
   "id": "c15e4108",
   "metadata": {},
   "outputs": [
    {
     "name": "stdout",
     "output_type": "stream",
     "text": [
      "All even numbers are 0\n",
      "All even numbers are 2\n",
      "All even numbers are 4\n",
      "All even numbers are 6\n",
      "All even numbers are 8\n",
      "All even numbers are 10\n"
     ]
    }
   ],
   "source": [
    "for num in range(0,11):\n",
    "    if num%2==0:\n",
    "        print(\"All even numbers are\",num)"
   ]
  },
  {
   "cell_type": "code",
   "execution_count": 17,
   "id": "ccb48761",
   "metadata": {},
   "outputs": [],
   "source": [
    "#Use a List Comprehension to create a list of all numbers between 1 and 50 that are divisible by 3."
   ]
  },
  {
   "cell_type": "code",
   "execution_count": 20,
   "id": "a50f99dc",
   "metadata": {},
   "outputs": [],
   "source": [
    "mylist=[]\n",
    "\n",
    "for num in range(1,51):\n",
    "    if num%3==0:\n",
    "        mylist.append(num)"
   ]
  },
  {
   "cell_type": "code",
   "execution_count": 21,
   "id": "741de365",
   "metadata": {},
   "outputs": [
    {
     "data": {
      "text/plain": [
       "[3, 6, 9, 12, 15, 18, 21, 24, 27, 30, 33, 36, 39, 42, 45, 48]"
      ]
     },
     "execution_count": 21,
     "metadata": {},
     "output_type": "execute_result"
    }
   ],
   "source": [
    "mylist"
   ]
  },
  {
   "cell_type": "code",
   "execution_count": 22,
   "id": "f312d8d5",
   "metadata": {},
   "outputs": [],
   "source": [
    "#list comprehension"
   ]
  },
  {
   "cell_type": "code",
   "execution_count": 38,
   "id": "078843ba",
   "metadata": {},
   "outputs": [],
   "source": [
    "mylist=[num for num in range(1,51)  if num%3==0]"
   ]
  },
  {
   "cell_type": "code",
   "execution_count": 39,
   "id": "c2628934",
   "metadata": {},
   "outputs": [
    {
     "data": {
      "text/plain": [
       "[3, 6, 9, 12, 15, 18, 21, 24, 27, 30, 33, 36, 39, 42, 45, 48]"
      ]
     },
     "execution_count": 39,
     "metadata": {},
     "output_type": "execute_result"
    }
   ],
   "source": [
    "mylist"
   ]
  },
  {
   "cell_type": "code",
   "execution_count": 40,
   "id": "0572863c",
   "metadata": {},
   "outputs": [],
   "source": [
    "#Go through the string below and if the length of a word is even print “even!”"
   ]
  },
  {
   "cell_type": "code",
   "execution_count": 41,
   "id": "71b868eb",
   "metadata": {},
   "outputs": [],
   "source": [
    "st = 'Print every word in this sentence that has an even number of letters'"
   ]
  },
  {
   "cell_type": "code",
   "execution_count": 45,
   "id": "3d22195a",
   "metadata": {},
   "outputs": [
    {
     "name": "stdout",
     "output_type": "stream",
     "text": [
      "word --is even in length!\n",
      "in --is even in length!\n",
      "this --is even in length!\n",
      "sentence --is even in length!\n",
      "that --is even in length!\n",
      "an --is even in length!\n",
      "even --is even in length!\n",
      "number --is even in length!\n",
      "of --is even in length!\n"
     ]
    }
   ],
   "source": [
    "for word in st.split():\n",
    "    if len(word)%2==0:\n",
    "        print(word,\"--is even in length!\")\n",
    "    "
   ]
  },
  {
   "cell_type": "code",
   "execution_count": 46,
   "id": "c42a7266",
   "metadata": {},
   "outputs": [],
   "source": [
    "#Write a program that prints the integers from 1 to 100.\n",
    "#But for multiples of three print “Fizz” instead of the number, \n",
    "#and for the multiples of five print “Buzz”.\n",
    "# For numbers which are multiples of both three and five print “FizzBuzz”."
   ]
  },
  {
   "cell_type": "code",
   "execution_count": 52,
   "id": "375a091b",
   "metadata": {},
   "outputs": [
    {
     "name": "stdout",
     "output_type": "stream",
     "text": [
      "1\n",
      "2\n",
      "Fizz\n",
      "4\n",
      "Buzz\n",
      "Fizz\n",
      "7\n",
      "FizzBuzz\n",
      "Fizz\n",
      "Buzz\n",
      "11\n",
      "Fizz\n",
      "FizzBuzz\n",
      "14\n",
      "Fizz\n",
      "16\n",
      "17\n",
      "Fizz\n",
      "19\n",
      "Buzz\n",
      "Fizz\n",
      "22\n",
      "FizzBuzz\n",
      "Fizz\n",
      "Buzz\n",
      "26\n",
      "Fizz\n",
      "FizzBuzz\n",
      "29\n",
      "Fizz\n",
      "31\n",
      "32\n",
      "Fizz\n",
      "34\n",
      "Buzz\n",
      "Fizz\n",
      "37\n",
      "FizzBuzz\n",
      "Fizz\n",
      "Buzz\n",
      "41\n",
      "Fizz\n",
      "FizzBuzz\n",
      "44\n",
      "Fizz\n",
      "46\n",
      "47\n",
      "Fizz\n",
      "49\n",
      "Buzz\n",
      "Fizz\n",
      "52\n",
      "FizzBuzz\n",
      "Fizz\n",
      "Buzz\n",
      "56\n",
      "Fizz\n",
      "FizzBuzz\n",
      "59\n",
      "Fizz\n",
      "61\n",
      "62\n",
      "Fizz\n",
      "64\n",
      "Buzz\n",
      "Fizz\n",
      "67\n",
      "FizzBuzz\n",
      "Fizz\n",
      "Buzz\n",
      "71\n",
      "Fizz\n",
      "FizzBuzz\n",
      "74\n",
      "Fizz\n",
      "76\n",
      "77\n",
      "Fizz\n",
      "79\n",
      "Buzz\n",
      "Fizz\n",
      "82\n",
      "FizzBuzz\n",
      "Fizz\n",
      "Buzz\n",
      "86\n",
      "Fizz\n",
      "FizzBuzz\n",
      "89\n",
      "Fizz\n",
      "91\n",
      "92\n",
      "Fizz\n",
      "94\n",
      "Buzz\n",
      "Fizz\n",
      "97\n",
      "FizzBuzz\n",
      "Fizz\n",
      "Buzz\n"
     ]
    }
   ],
   "source": [
    "for num in range(1,101):\n",
    "    if num%3==0:\n",
    "        print('Fizz')\n",
    "    elif num%5==0:\n",
    "        print('Buzz')\n",
    "    elif ((num%5)%3)==0:\n",
    "        print('FizzBuzz')\n",
    "    else:\n",
    "        print(num)"
   ]
  },
  {
   "cell_type": "code",
   "execution_count": 53,
   "id": "ef8bfdfd",
   "metadata": {},
   "outputs": [],
   "source": [
    "#Use List Comprehension to create a list of the first letters of every word in the string below:"
   ]
  },
  {
   "cell_type": "code",
   "execution_count": 56,
   "id": "77605a26",
   "metadata": {},
   "outputs": [],
   "source": [
    "st = 'Create a list of the first letters of every word in this string'"
   ]
  },
  {
   "cell_type": "code",
   "execution_count": 59,
   "id": "cf9bbbf7",
   "metadata": {},
   "outputs": [],
   "source": [
    "mylist=[]\n",
    "for letter in st.split():\n",
    "    mylist.append(letter[0])"
   ]
  },
  {
   "cell_type": "code",
   "execution_count": 60,
   "id": "df63d54a",
   "metadata": {},
   "outputs": [
    {
     "data": {
      "text/plain": [
       "['C', 'a', 'l', 'o', 't', 'f', 'l', 'o', 'e', 'w', 'i', 't', 's']"
      ]
     },
     "execution_count": 60,
     "metadata": {},
     "output_type": "execute_result"
    }
   ],
   "source": [
    "mylist"
   ]
  },
  {
   "cell_type": "code",
   "execution_count": 61,
   "id": "fa76bfc5",
   "metadata": {},
   "outputs": [],
   "source": [
    "#list comprehension"
   ]
  },
  {
   "cell_type": "code",
   "execution_count": 62,
   "id": "26c1fe14",
   "metadata": {},
   "outputs": [],
   "source": [
    "mylist=[letter[0] for letter in st.split()]"
   ]
  },
  {
   "cell_type": "code",
   "execution_count": 63,
   "id": "d79ec565",
   "metadata": {},
   "outputs": [
    {
     "data": {
      "text/plain": [
       "['C', 'a', 'l', 'o', 't', 'f', 'l', 'o', 'e', 'w', 'i', 't', 's']"
      ]
     },
     "execution_count": 63,
     "metadata": {},
     "output_type": "execute_result"
    }
   ],
   "source": [
    "mylist"
   ]
  },
  {
   "cell_type": "code",
   "execution_count": null,
   "id": "bd2ddd89",
   "metadata": {},
   "outputs": [],
   "source": []
  }
 ],
 "metadata": {
  "kernelspec": {
   "display_name": "Python 3 (ipykernel)",
   "language": "python",
   "name": "python3"
  },
  "language_info": {
   "codemirror_mode": {
    "name": "ipython",
    "version": 3
   },
   "file_extension": ".py",
   "mimetype": "text/x-python",
   "name": "python",
   "nbconvert_exporter": "python",
   "pygments_lexer": "ipython3",
   "version": "3.9.12"
  }
 },
 "nbformat": 4,
 "nbformat_minor": 5
}
