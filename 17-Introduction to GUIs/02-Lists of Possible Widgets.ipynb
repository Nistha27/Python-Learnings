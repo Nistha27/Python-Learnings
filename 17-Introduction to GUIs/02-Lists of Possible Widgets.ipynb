{
 "cells": [
  {
   "cell_type": "code",
   "execution_count": 8,
   "id": "3a91317b",
   "metadata": {},
   "outputs": [
    {
     "name": "stdout",
     "output_type": "stream",
     "text": [
      "<class 'ipywidgets.widgets.widget_layout.Layout'>\n",
      "<class 'ipywidgets.widgets.widget_selectioncontainer.Accordion'>\n",
      "<class 'ipywidgets.widgets.widget_media.Audio'>\n",
      "<class 'ipywidgets.widgets.widget_float.BoundedFloatText'>\n",
      "<class 'ipywidgets.widgets.widget_int.BoundedIntText'>\n",
      "<class 'ipywidgets.widgets.widget_box.Box'>\n",
      "<class 'ipywidgets.widgets.widget_button.Button'>\n",
      "<class 'ipywidgets.widgets.widget_button.ButtonStyle'>\n",
      "<class 'ipywidgets.widgets.widget_bool.Checkbox'>\n",
      "<class 'ipywidgets.widgets.widget_color.ColorPicker'>\n",
      "<class 'ipywidgets.widgets.widget_string.Combobox'>\n",
      "<class 'ipywidgets.widgets.widget_controller.Axis'>\n",
      "<class 'ipywidgets.widgets.widget_controller.Button'>\n",
      "<class 'ipywidgets.widgets.widget_controller.Controller'>\n",
      "<class 'ipywidgets.widgets.widget_media._Media'>\n",
      "<class 'ipywidgets.widgets.widget_date.DatePicker'>\n",
      "<class 'ipywidgets.widgets.widget_description.DescriptionStyle'>\n",
      "<class 'ipywidgets.widgets.widget_link.DirectionalLink'>\n",
      "<class 'ipywidgets.widgets.widget_selection.Dropdown'>\n",
      "<class 'ipywidgets.widgets.widget_upload.FileUpload'>\n",
      "<class 'ipywidgets.widgets.widget_float.FloatLogSlider'>\n",
      "<class 'ipywidgets.widgets.widget_float.FloatProgress'>\n",
      "<class 'ipywidgets.widgets.widget_float.FloatRangeSlider'>\n",
      "<class 'ipywidgets.widgets.widget_float.FloatSlider'>\n",
      "<class 'ipywidgets.widgets.widget_float.FloatText'>\n",
      "<class 'ipywidgets.widgets.widget_box.GridBox'>\n",
      "<class 'ipywidgets.widgets.widget_box.HBox'>\n",
      "<class 'ipywidgets.widgets.widget_string.HTMLMath'>\n",
      "<class 'ipywidgets.widgets.widget_string.HTML'>\n",
      "<class 'ipywidgets.widgets.widget_media.Image'>\n",
      "<class 'ipywidgets.widgets.widget_int.IntProgress'>\n",
      "<class 'ipywidgets.widgets.widget_int.IntRangeSlider'>\n",
      "<class 'ipywidgets.widgets.widget_int.IntSlider'>\n",
      "<class 'ipywidgets.widgets.widget_int.IntText'>\n",
      "<class 'ipywidgets.widgets.widget_string.Label'>\n",
      "<class 'ipywidgets.widgets.widget_link.Link'>\n",
      "<class 'ipywidgets.widgets.widget_string.Password'>\n",
      "<class 'ipywidgets.widgets.widget_int.Play'>\n",
      "<class 'ipywidgets.widgets.widget_int.ProgressStyle'>\n",
      "<class 'ipywidgets.widgets.widget_selection.RadioButtons'>\n",
      "<class 'ipywidgets.widgets.widget_selection.Select'>\n",
      "<class 'ipywidgets.widgets.widget_selection.SelectMultiple'>\n",
      "<class 'ipywidgets.widgets.widget_selection.SelectionRangeSlider'>\n",
      "<class 'ipywidgets.widgets.widget_selection.SelectionSlider'>\n",
      "<class 'ipywidgets.widgets.widget_int.SliderStyle'>\n",
      "<class 'ipywidgets.widgets.widget_selectioncontainer.Tab'>\n",
      "<class 'ipywidgets.widgets.widget_string.Text'>\n",
      "<class 'ipywidgets.widgets.widget_string.Textarea'>\n",
      "<class 'ipywidgets.widgets.widget_bool.ToggleButton'>\n",
      "<class 'ipywidgets.widgets.widget_selection.ToggleButtons'>\n",
      "<class 'ipywidgets.widgets.widget_selection.ToggleButtonsStyle'>\n",
      "<class 'ipywidgets.widgets.widget_box.VBox'>\n",
      "<class 'ipywidgets.widgets.widget_bool.Valid'>\n",
      "<class 'ipywidgets.widgets.widget_media.Video'>\n",
      "<class 'ipywidgets.widgets.widget_output.Output'>\n"
     ]
    }
   ],
   "source": [
    "import ipywidgets as widgets\n",
    "\n",
    "#Show all available widgets!\n",
    "for item in widgets.Widget.widget_types.items():\n",
    "    print(item[1])"
   ]
  },
  {
   "cell_type": "code",
   "execution_count": 9,
   "id": "15156ae2",
   "metadata": {},
   "outputs": [],
   "source": [
    "#INTSLIDER"
   ]
  },
  {
   "cell_type": "code",
   "execution_count": 11,
   "id": "09a87950",
   "metadata": {},
   "outputs": [
    {
     "ename": "SyntaxError",
     "evalue": "invalid syntax (342489668.py, line 4)",
     "output_type": "error",
     "traceback": [
      "\u001b[1;36m  Input \u001b[1;32mIn [11]\u001b[1;36m\u001b[0m\n\u001b[1;33m    max=10,\u001b[0m\n\u001b[1;37m    ^\u001b[0m\n\u001b[1;31mSyntaxError\u001b[0m\u001b[1;31m:\u001b[0m invalid syntax\n"
     ]
    }
   ],
   "source": [
    "widgets.IntSlider(\n",
    "   value=7,\n",
    "   min=0\n",
    "   max=10,\n",
    "   step=1,\n",
    "   description='Test:',\n",
    "   disabled=False,\n",
    "   continuous_update=False,\n",
    "   orientation='horizontal',\n",
    "   readout=True,\n",
    "   readout_format='d'\n",
    " )"
   ]
  },
  {
   "cell_type": "code",
   "execution_count": null,
   "id": "68d82509",
   "metadata": {},
   "outputs": [],
   "source": []
  }
 ],
 "metadata": {
  "kernelspec": {
   "display_name": "Python 3 (ipykernel)",
   "language": "python",
   "name": "python3"
  },
  "language_info": {
   "codemirror_mode": {
    "name": "ipython",
    "version": 3
   },
   "file_extension": ".py",
   "mimetype": "text/x-python",
   "name": "python",
   "nbconvert_exporter": "python",
   "pygments_lexer": "ipython3",
   "version": "3.9.12"
  }
 },
 "nbformat": 4,
 "nbformat_minor": 5
}
