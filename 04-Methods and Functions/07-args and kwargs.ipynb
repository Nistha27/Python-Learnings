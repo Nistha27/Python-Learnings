{
 "cells": [
  {
   "cell_type": "code",
   "execution_count": 1,
   "id": "deed6025",
   "metadata": {},
   "outputs": [],
   "source": [
    "def myfunc(a,b):\n",
    "    #RETURNS 5% of the sum of a and b\n",
    "    return sum((a,b))*0.05\n"
   ]
  },
  {
   "cell_type": "code",
   "execution_count": 2,
   "id": "3eb15c97",
   "metadata": {},
   "outputs": [
    {
     "data": {
      "text/plain": [
       "5.0"
      ]
     },
     "execution_count": 2,
     "metadata": {},
     "output_type": "execute_result"
    }
   ],
   "source": [
    "myfunc(40,60)"
   ]
  },
  {
   "cell_type": "code",
   "execution_count": 5,
   "id": "5893b320",
   "metadata": {},
   "outputs": [],
   "source": [
    "def myfunc(a,b,c=0,d=5):\n",
    "    #RETURNS 5% of the sum of a and b\n",
    "    return sum((a,b,c,d))*0.05"
   ]
  },
  {
   "cell_type": "code",
   "execution_count": 6,
   "id": "2d403eb6",
   "metadata": {},
   "outputs": [
    {
     "data": {
      "text/plain": [
       "5.25"
      ]
     },
     "execution_count": 6,
     "metadata": {},
     "output_type": "execute_result"
    }
   ],
   "source": [
    "myfunc(40,60)"
   ]
  },
  {
   "cell_type": "code",
   "execution_count": 7,
   "id": "f874acd3",
   "metadata": {},
   "outputs": [],
   "source": [
    "def myfunc(*args):\n",
    "    return sum (args)*0.05\n",
    "# *args allows us to pass as many arrbitary arguments \n",
    "# *args are used to add parameters in the form of tuple"
   ]
  },
  {
   "cell_type": "code",
   "execution_count": 10,
   "id": "19d0f2ee",
   "metadata": {},
   "outputs": [
    {
     "data": {
      "text/plain": [
       "10.5"
      ]
     },
     "execution_count": 10,
     "metadata": {},
     "output_type": "execute_result"
    }
   ],
   "source": [
    "myfunc(40,60,50,60)"
   ]
  },
  {
   "cell_type": "code",
   "execution_count": 11,
   "id": "54fddaa7",
   "metadata": {},
   "outputs": [],
   "source": [
    "def myfunc(*args):\n",
    "    for item in args :\n",
    "        print (item)"
   ]
  },
  {
   "cell_type": "code",
   "execution_count": 12,
   "id": "ba0cf00f",
   "metadata": {},
   "outputs": [
    {
     "name": "stdout",
     "output_type": "stream",
     "text": [
      "40\n",
      "60\n",
      "82\n",
      "30\n"
     ]
    }
   ],
   "source": [
    "myfunc(40,60,82,30)"
   ]
  },
  {
   "cell_type": "code",
   "execution_count": 14,
   "id": "192ffa58",
   "metadata": {},
   "outputs": [],
   "source": [
    "# **kwargs is a keyword argument\n",
    "# it allows one add as many arbitary keywords as one wants\n",
    "# it  appears in the form of dictionarny "
   ]
  },
  {
   "cell_type": "code",
   "execution_count": 27,
   "id": "374ad129",
   "metadata": {},
   "outputs": [],
   "source": [
    "def myfunc(**kwargs):\n",
    "    print(kwargs)\n",
    "    if 'fruit' in kwargs:\n",
    "        print('My fruit of choice is {}'.format(kwargs['fruit']))\n",
    "    else:\n",
    "        print('I did not find any fruit here')"
   ]
  },
  {
   "cell_type": "code",
   "execution_count": 30,
   "id": "a24f1687",
   "metadata": {},
   "outputs": [
    {
     "name": "stdout",
     "output_type": "stream",
     "text": [
      "{'fruit': 'apple', 'veggie': 'orange'}\n"
     ]
    }
   ],
   "source": [
    "myfunc(fruit='apple',veggie='orange')"
   ]
  },
  {
   "cell_type": "code",
   "execution_count": 31,
   "id": "29d2b666",
   "metadata": {},
   "outputs": [],
   "source": [
    "def myfunc(**jelly):\n",
    "    print(jelly)"
   ]
  },
  {
   "cell_type": "code",
   "execution_count": 32,
   "id": "d892e7ed",
   "metadata": {},
   "outputs": [
    {
     "name": "stdout",
     "output_type": "stream",
     "text": [
      "{'fav': 'organge', 'fruit': 'apple'}\n"
     ]
    }
   ],
   "source": [
    "myfunc(fav='organge', fruit='apple')"
   ]
  },
  {
   "cell_type": "code",
   "execution_count": 33,
   "id": "e975ff44",
   "metadata": {},
   "outputs": [],
   "source": [
    "# combination of **kwargs and *args"
   ]
  },
  {
   "cell_type": "code",
   "execution_count": 37,
   "id": "a0535f3e",
   "metadata": {},
   "outputs": [],
   "source": [
    "def myfunc(*args,**kwargs):\n",
    "    print(args)\n",
    "    print(kwargs)\n",
    "    print('I would like {} {} '.format(args[0],kwargs['food']))"
   ]
  },
  {
   "cell_type": "code",
   "execution_count": 38,
   "id": "3f13e089",
   "metadata": {},
   "outputs": [
    {
     "name": "stdout",
     "output_type": "stream",
     "text": [
      "(25, 30, 40)\n",
      "{'food': 'apple', 'fav': 'organge'}\n",
      "I would like 25 apple \n"
     ]
    }
   ],
   "source": [
    "myfunc(25,30,40,food='apple',fav='organge')"
   ]
  },
  {
   "cell_type": "code",
   "execution_count": 39,
   "id": "0792c023",
   "metadata": {},
   "outputs": [],
   "source": [
    "def myfunc(*args):\n",
    "    return sum(args)"
   ]
  },
  {
   "cell_type": "code",
   "execution_count": 40,
   "id": "492cb788",
   "metadata": {},
   "outputs": [
    {
     "data": {
      "text/plain": [
       "100"
      ]
     },
     "execution_count": 40,
     "metadata": {},
     "output_type": "execute_result"
    }
   ],
   "source": [
    "myfunc(40,60)"
   ]
  },
  {
   "cell_type": "code",
   "execution_count": 1,
   "id": "03d0707f",
   "metadata": {},
   "outputs": [],
   "source": [
    "#Define a function called myfunc\n",
    "#that takes in an arbitrary number of arguments,\n",
    "#and returns a list containing only those arguments that are even"
   ]
  },
  {
   "cell_type": "code",
   "execution_count": 5,
   "id": "42c4ec60",
   "metadata": {},
   "outputs": [],
   "source": [
    "def myfunc(*args):\n",
    "    return [n for n in args if n%2 == 0]"
   ]
  },
  {
   "cell_type": "code",
   "execution_count": 6,
   "id": "39410f47",
   "metadata": {},
   "outputs": [
    {
     "name": "stdout",
     "output_type": "stream",
     "text": [
      "[2, 4, 6, 8, 10]\n"
     ]
    }
   ],
   "source": [
    "print(myfunc(1,2,3,4,5,6,7,8,9,10))"
   ]
  },
  {
   "cell_type": "code",
   "execution_count": null,
   "id": "26315adb",
   "metadata": {},
   "outputs": [],
   "source": []
  }
 ],
 "metadata": {
  "kernelspec": {
   "display_name": "Python 3 (ipykernel)",
   "language": "python",
   "name": "python3"
  },
  "language_info": {
   "codemirror_mode": {
    "name": "ipython",
    "version": 3
   },
   "file_extension": ".py",
   "mimetype": "text/x-python",
   "name": "python",
   "nbconvert_exporter": "python",
   "pygments_lexer": "ipython3",
   "version": "3.9.12"
  }
 },
 "nbformat": 4,
 "nbformat_minor": 5
}
