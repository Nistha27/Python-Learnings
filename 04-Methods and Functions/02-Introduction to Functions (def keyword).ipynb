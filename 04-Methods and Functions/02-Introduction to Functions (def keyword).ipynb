{
 "cells": [
  {
   "cell_type": "code",
   "execution_count": 2,
   "id": "aa74fd83",
   "metadata": {},
   "outputs": [
    {
     "name": "stdout",
     "output_type": "stream",
     "text": [
      "hello\n"
     ]
    }
   ],
   "source": [
    "def name_of_function():\n",
    "    ''' \n",
    "    docstring explains function.\n",
    "    '''\n",
    "    print(\"hello\")\n",
    "\n",
    "name_of_function()"
   ]
  },
  {
   "cell_type": "code",
   "execution_count": 8,
   "id": "43f88af7",
   "metadata": {},
   "outputs": [
    {
     "name": "stdout",
     "output_type": "stream",
     "text": [
      "Hello\tJose\n"
     ]
    }
   ],
   "source": [
    "def name_of_function(name):#definig the function with variable name \n",
    "    ''' \n",
    "    docstring explains function.\n",
    "    '''\n",
    "    print(\"Hello\\t\" + name)\n",
    "\n",
    "name_of_function(\"Jose\")#function call"
   ]
  },
  {
   "cell_type": "code",
   "execution_count": 14,
   "id": "a0295198",
   "metadata": {},
   "outputs": [
    {
     "name": "stdout",
     "output_type": "stream",
     "text": [
      "5\n"
     ]
    }
   ],
   "source": [
    "def add_function(num1,num2):\n",
    "    return num1+num2 #return allows to save the result to a variable\n",
    "\n",
    "result=add_function(3,2)\n",
    "\n",
    "print(result)"
   ]
  },
  {
   "cell_type": "code",
   "execution_count": null,
   "id": "f0d4ad45",
   "metadata": {},
   "outputs": [],
   "source": []
  }
 ],
 "metadata": {
  "kernelspec": {
   "display_name": "Python 3 (ipykernel)",
   "language": "python",
   "name": "python3"
  },
  "language_info": {
   "codemirror_mode": {
    "name": "ipython",
    "version": 3
   },
   "file_extension": ".py",
   "mimetype": "text/x-python",
   "name": "python",
   "nbconvert_exporter": "python",
   "pygments_lexer": "ipython3",
   "version": "3.9.12"
  }
 },
 "nbformat": 4,
 "nbformat_minor": 5
}
