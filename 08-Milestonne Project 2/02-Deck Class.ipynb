{
 "cells": [
  {
   "cell_type": "code",
   "execution_count": 1,
   "id": "497beae0",
   "metadata": {},
   "outputs": [],
   "source": [
    "#deck\n",
    "#suit,rank,value\n",
    "\n",
    "import random\n",
    "suits = ('Hearts', 'Diamonds', 'Spades', 'Clubs')\n",
    "ranks = ('Two', 'Three', 'Four', 'Five', 'Six', 'Seven', 'Eight', 'Nine', 'Ten', 'Jack', 'Queen', 'King', 'Ace')\n",
    "values = {'Two':2, 'Three':3, 'Four':4, 'Five':5, 'Six':6, 'Seven':7, 'Eight':8, 'Nine':9, 'Ten':10, 'Jack':10,\n",
    "         'Queen':10, 'King':10, 'Ace':11}"
   ]
  },
  {
   "cell_type": "code",
   "execution_count": 2,
   "id": "d05ee3b1",
   "metadata": {},
   "outputs": [],
   "source": [
    "class Card:\n",
    "    \n",
    "    def __init__(self,suit,rank):\n",
    "        self.suit = suit\n",
    "        self.rank = rank\n",
    "        self.value = values[rank]\n",
    "        \n",
    "    def __str__(self):\n",
    "        return self.rank + \" of \" + self.suit"
   ]
  },
  {
   "cell_type": "code",
   "execution_count": 3,
   "id": "46b7835e",
   "metadata": {},
   "outputs": [],
   "source": [
    "class Deck:\n",
    "    \n",
    "    def __init__(self):\n",
    "        \n",
    "        self.all_cards = []\n",
    "        \n",
    "        for suit in suits:\n",
    "            for rank in ranks:\n",
    "                #Create the Card Object\n",
    "                \n",
    "                created_card = Card(suit,rank)\n",
    "                \n",
    "                self.all_cards.append(created_card)\n",
    "    \n",
    "    def shuffle(self):\n",
    "        \n",
    "        random.shuffle(self.all_cards)\n",
    "        \n",
    "        \n",
    "    def deal_one(self):\n",
    "        return self.all_cards.pop()\n",
    "        \n",
    "        "
   ]
  },
  {
   "cell_type": "code",
   "execution_count": 4,
   "id": "32418ab6",
   "metadata": {},
   "outputs": [],
   "source": [
    "new_deck = Deck()"
   ]
  },
  {
   "cell_type": "code",
   "execution_count": 5,
   "id": "bfa0a2f1",
   "metadata": {},
   "outputs": [
    {
     "data": {
      "text/plain": [
       "[<__main__.Card at 0x1aa01967d00>,\n",
       " <__main__.Card at 0x1aa01967d60>,\n",
       " <__main__.Card at 0x1aa01967ac0>,\n",
       " <__main__.Card at 0x1aa01967bb0>,\n",
       " <__main__.Card at 0x1aa01967190>,\n",
       " <__main__.Card at 0x1aa01967850>,\n",
       " <__main__.Card at 0x1aa019678b0>,\n",
       " <__main__.Card at 0x1aa01967c70>,\n",
       " <__main__.Card at 0x1aa01967670>,\n",
       " <__main__.Card at 0x1aa01967700>,\n",
       " <__main__.Card at 0x1aa01967c10>,\n",
       " <__main__.Card at 0x1aa019676d0>,\n",
       " <__main__.Card at 0x1aa01967400>,\n",
       " <__main__.Card at 0x1aa019677f0>,\n",
       " <__main__.Card at 0x1aa01967640>,\n",
       " <__main__.Card at 0x1aa0197de80>,\n",
       " <__main__.Card at 0x1aa0197ddf0>,\n",
       " <__main__.Card at 0x1aa0197d400>,\n",
       " <__main__.Card at 0x1aa0197dbb0>,\n",
       " <__main__.Card at 0x1aa0197d0a0>,\n",
       " <__main__.Card at 0x1aa0197d100>,\n",
       " <__main__.Card at 0x1aa0197db50>,\n",
       " <__main__.Card at 0x1aa0197dc40>,\n",
       " <__main__.Card at 0x1aa0197df10>,\n",
       " <__main__.Card at 0x1aa0197dee0>,\n",
       " <__main__.Card at 0x1aa0197da00>,\n",
       " <__main__.Card at 0x1aa0197d3d0>,\n",
       " <__main__.Card at 0x1aa0197d700>,\n",
       " <__main__.Card at 0x1aa0197d1c0>,\n",
       " <__main__.Card at 0x1aa0197d940>,\n",
       " <__main__.Card at 0x1aa0197dd30>,\n",
       " <__main__.Card at 0x1aa0197d0d0>,\n",
       " <__main__.Card at 0x1aa0197d820>,\n",
       " <__main__.Card at 0x1aa0197db80>,\n",
       " <__main__.Card at 0x1aa0197d6d0>,\n",
       " <__main__.Card at 0x1aa0197d430>,\n",
       " <__main__.Card at 0x1aa0197dd00>,\n",
       " <__main__.Card at 0x1aa0197dd90>,\n",
       " <__main__.Card at 0x1aa0197d460>,\n",
       " <__main__.Card at 0x1aa0197d4c0>,\n",
       " <__main__.Card at 0x1aa0197d7c0>,\n",
       " <__main__.Card at 0x1aa0197d070>,\n",
       " <__main__.Card at 0x1aa0197d850>,\n",
       " <__main__.Card at 0x1aa0197d8b0>,\n",
       " <__main__.Card at 0x1aa0197d910>,\n",
       " <__main__.Card at 0x1aa0197d730>,\n",
       " <__main__.Card at 0x1aa0197daf0>,\n",
       " <__main__.Card at 0x1aa0197d190>,\n",
       " <__main__.Card at 0x1aa0197d5e0>,\n",
       " <__main__.Card at 0x1aa0197d6a0>,\n",
       " <__main__.Card at 0x1aa0197d550>,\n",
       " <__main__.Card at 0x1aa0197d670>]"
      ]
     },
     "execution_count": 5,
     "metadata": {},
     "output_type": "execute_result"
    }
   ],
   "source": [
    "new_deck.all_cards"
   ]
  },
  {
   "cell_type": "code",
   "execution_count": 6,
   "id": "d58f9a11",
   "metadata": {},
   "outputs": [],
   "source": [
    "first_card = new_deck.all_cards[-1]"
   ]
  },
  {
   "cell_type": "code",
   "execution_count": 7,
   "id": "5e890c16",
   "metadata": {},
   "outputs": [
    {
     "data": {
      "text/plain": [
       "<__main__.Card at 0x1aa0197d670>"
      ]
     },
     "execution_count": 7,
     "metadata": {},
     "output_type": "execute_result"
    }
   ],
   "source": [
    "first_card"
   ]
  },
  {
   "cell_type": "code",
   "execution_count": 8,
   "id": "795d34d0",
   "metadata": {},
   "outputs": [
    {
     "data": {
      "text/plain": [
       "'Ace'"
      ]
     },
     "execution_count": 8,
     "metadata": {},
     "output_type": "execute_result"
    }
   ],
   "source": [
    "first_card.rank"
   ]
  },
  {
   "cell_type": "code",
   "execution_count": 9,
   "id": "8055fcfd",
   "metadata": {},
   "outputs": [
    {
     "name": "stdout",
     "output_type": "stream",
     "text": [
      "Ace of Clubs\n"
     ]
    }
   ],
   "source": [
    "print(first_card)"
   ]
  },
  {
   "cell_type": "code",
   "execution_count": 10,
   "id": "be498143",
   "metadata": {},
   "outputs": [
    {
     "name": "stdout",
     "output_type": "stream",
     "text": [
      "Two of Hearts\n",
      "Three of Hearts\n",
      "Four of Hearts\n",
      "Five of Hearts\n",
      "Six of Hearts\n",
      "Seven of Hearts\n",
      "Eight of Hearts\n",
      "Nine of Hearts\n",
      "Ten of Hearts\n",
      "Jack of Hearts\n",
      "Queen of Hearts\n",
      "King of Hearts\n",
      "Ace of Hearts\n",
      "Two of Diamonds\n",
      "Three of Diamonds\n",
      "Four of Diamonds\n",
      "Five of Diamonds\n",
      "Six of Diamonds\n",
      "Seven of Diamonds\n",
      "Eight of Diamonds\n",
      "Nine of Diamonds\n",
      "Ten of Diamonds\n",
      "Jack of Diamonds\n",
      "Queen of Diamonds\n",
      "King of Diamonds\n",
      "Ace of Diamonds\n",
      "Two of Spades\n",
      "Three of Spades\n",
      "Four of Spades\n",
      "Five of Spades\n",
      "Six of Spades\n",
      "Seven of Spades\n",
      "Eight of Spades\n",
      "Nine of Spades\n",
      "Ten of Spades\n",
      "Jack of Spades\n",
      "Queen of Spades\n",
      "King of Spades\n",
      "Ace of Spades\n",
      "Two of Clubs\n",
      "Three of Clubs\n",
      "Four of Clubs\n",
      "Five of Clubs\n",
      "Six of Clubs\n",
      "Seven of Clubs\n",
      "Eight of Clubs\n",
      "Nine of Clubs\n",
      "Ten of Clubs\n",
      "Jack of Clubs\n",
      "Queen of Clubs\n",
      "King of Clubs\n",
      "Ace of Clubs\n"
     ]
    }
   ],
   "source": [
    "for card_object in new_deck.all_cards:\n",
    "    print(card_object)"
   ]
  },
  {
   "cell_type": "code",
   "execution_count": 11,
   "id": "f528e366",
   "metadata": {},
   "outputs": [],
   "source": [
    "bottom_card = new_deck.all_cards[-1]"
   ]
  },
  {
   "cell_type": "code",
   "execution_count": 12,
   "id": "b40bc616",
   "metadata": {},
   "outputs": [
    {
     "name": "stdout",
     "output_type": "stream",
     "text": [
      "Ace of Clubs\n"
     ]
    }
   ],
   "source": [
    "print(bottom_card)"
   ]
  },
  {
   "cell_type": "code",
   "execution_count": 13,
   "id": "b526fe35",
   "metadata": {},
   "outputs": [],
   "source": [
    "new_deck.shuffle()"
   ]
  },
  {
   "cell_type": "code",
   "execution_count": 14,
   "id": "072c6189",
   "metadata": {},
   "outputs": [
    {
     "name": "stdout",
     "output_type": "stream",
     "text": [
      "Five of Diamonds\n"
     ]
    }
   ],
   "source": [
    "print(new_deck.all_cards[-1])"
   ]
  },
  {
   "cell_type": "code",
   "execution_count": 15,
   "id": "09a8f833",
   "metadata": {},
   "outputs": [],
   "source": [
    "new_deck = Deck()"
   ]
  },
  {
   "cell_type": "code",
   "execution_count": 16,
   "id": "66612293",
   "metadata": {},
   "outputs": [],
   "source": [
    "new_deck.shuffle()"
   ]
  },
  {
   "cell_type": "code",
   "execution_count": 17,
   "id": "df89ba75",
   "metadata": {},
   "outputs": [],
   "source": [
    "my_card = new_deck.deal_one()"
   ]
  },
  {
   "cell_type": "code",
   "execution_count": 18,
   "id": "96ebd29e",
   "metadata": {},
   "outputs": [
    {
     "name": "stdout",
     "output_type": "stream",
     "text": [
      "Ace of Clubs\n"
     ]
    }
   ],
   "source": [
    "print(my_card)"
   ]
  },
  {
   "cell_type": "code",
   "execution_count": 19,
   "id": "bd3f2124",
   "metadata": {},
   "outputs": [
    {
     "data": {
      "text/plain": [
       "51"
      ]
     },
     "execution_count": 19,
     "metadata": {},
     "output_type": "execute_result"
    }
   ],
   "source": [
    "len(new_deck.all_cards)"
   ]
  }
 ],
 "metadata": {
  "kernelspec": {
   "display_name": "Python 3 (ipykernel)",
   "language": "python",
   "name": "python3"
  },
  "language_info": {
   "codemirror_mode": {
    "name": "ipython",
    "version": 3
   },
   "file_extension": ".py",
   "mimetype": "text/x-python",
   "name": "python",
   "nbconvert_exporter": "python",
   "pygments_lexer": "ipython3",
   "version": "3.9.12"
  }
 },
 "nbformat": 4,
 "nbformat_minor": 5
}
